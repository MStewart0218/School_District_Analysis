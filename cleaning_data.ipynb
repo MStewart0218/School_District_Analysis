{
 "cells": [
  {
   "cell_type": "code",
   "execution_count": null,
   "metadata": {},
   "outputs": [],
   "source": [
    "#Add the Pandas dependency.\n",
    "import pandas as pd"
   ]
  },
  {
   "cell_type": "code",
   "execution_count": null,
   "id": "92b2dd94",
   "metadata": {},
   "outputs": [],
   "source": [
    "#Files to load\n",
    "file_to_load = \"Resources/missing_grades.csv\"\n",
    "\n",
    "#Read the CSV into a DataFrame\n",
    "missing_grades_df = pd.read_csv(file_to_load)\n",
    "missing_grades_df"
   ]
  }
 ],
 "metadata": {
  "language_info": {
   "name": "python"
  }
 },
 "nbformat": 4,
 "nbformat_minor": 5
}
